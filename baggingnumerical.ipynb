{
 "cells": [
  {
   "cell_type": "markdown",
   "id": "50190509",
   "metadata": {},
   "source": [
    "bagging"
   ]
  },
  {
   "cell_type": "code",
   "execution_count": 1,
   "id": "72584b5b",
   "metadata": {},
   "outputs": [
    {
     "name": "stdout",
     "output_type": "stream",
     "text": [
      "Bagging Accuracy (Numeric): 0.5091666666666667\n"
     ]
    }
   ],
   "source": [
    "import pandas as pd\n",
    "import numpy as np\n",
    "from sklearn.model_selection import train_test_split\n",
    "from sklearn.tree import DecisionTreeClassifier\n",
    "from sklearn.ensemble import BaggingClassifier\n",
    "from sklearn.metrics import accuracy_score\n",
    "\n",
    "# load dataset\n",
    "numeric_df = pd.read_csv(\"numeric_dataset.csv\")\n",
    "np.random.seed(42)\n",
    "numeric_df[\"target\"] = np.random.choice([0, 1], size=len(numeric_df))\n",
    "X = numeric_df.drop(\"target\", axis=1)\n",
    "y = numeric_df[\"target\"]\n",
    "\n",
    "# split data\n",
    "X_train, X_test, y_train, y_test = train_test_split(X, y, test_size=0.2, random_state=42)\n",
    "\n",
    "# bagging model (use estimator instead of base_estimator)\n",
    "bagging_clf = BaggingClassifier(estimator=DecisionTreeClassifier(), n_estimators=50, random_state=42)\n",
    "\n",
    "# train\n",
    "bagging_clf.fit(X_train, y_train)\n",
    "\n",
    "# predict\n",
    "y_pred = bagging_clf.predict(X_test)\n",
    "\n",
    "# accuracy\n",
    "print(\"Bagging Accuracy (Numeric):\", accuracy_score(y_test, y_pred))\n"
   ]
  },
  {
   "cell_type": "markdown",
   "id": "d65bc27a",
   "metadata": {},
   "source": [
    "The provided Python code demonstrates building a Bagging ensemble model using a Decision Tree classifier on a numeric dataset. Initially, the code imports essential libraries: pandas and numpy for data manipulation, and scikit-learn modules for model training, evaluation, and ensemble techniques. The dataset is loaded from a CSV file named \"numeric_dataset.csv\" into a DataFrame called numeric_df. Since the dataset lacks a target column, a synthetic binary target variable \"target\" is generated using numpy.random.choice, with values 0 and 1, ensuring reproducibility via np.random.seed(42).\n",
    "\n",
    "Next, features (X) and target (y) are separated. The dataset is split into training and testing sets using an 80:20 ratio with train_test_split, allowing evaluation on unseen data. The BaggingClassifier is then defined, specifying DecisionTreeClassifier as the base estimator (estimator), with 50 trees (n_estimators=50) and a fixed random state for reproducibility.\n",
    "\n",
    "The model is trained on X_train and y_train using .fit(). Predictions on the test set (X_test) are generated using .predict(), and accuracy is computed via accuracy_score(y_test, y_pred). Bagging helps reduce variance and improve model stability compared to a single decision tree. The final output prints the accuracy of the ensemble, demonstrating the effectiveness of Bagging in handling numeric datasets while mitigating overfitting."
   ]
  }
 ],
 "metadata": {
  "kernelspec": {
   "display_name": "Python 3",
   "language": "python",
   "name": "python3"
  },
  "language_info": {
   "codemirror_mode": {
    "name": "ipython",
    "version": 3
   },
   "file_extension": ".py",
   "mimetype": "text/x-python",
   "name": "python",
   "nbconvert_exporter": "python",
   "pygments_lexer": "ipython3",
   "version": "3.13.1"
  }
 },
 "nbformat": 4,
 "nbformat_minor": 5
}
