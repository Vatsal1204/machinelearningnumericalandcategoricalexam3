{
 "cells": [
  {
   "cell_type": "markdown",
   "id": "2ac3d919",
   "metadata": {},
   "source": [
    "decision tree "
   ]
  },
  {
   "cell_type": "code",
   "execution_count": 1,
   "id": "a0dbec39",
   "metadata": {},
   "outputs": [
    {
     "name": "stdout",
     "output_type": "stream",
     "text": [
      "Decision Tree Accuracy (Numeric): 0.4708333333333333\n"
     ]
    }
   ],
   "source": [
    "import pandas as pd\n",
    "import numpy as np\n",
    "from sklearn.model_selection import train_test_split\n",
    "from sklearn.tree import DecisionTreeClassifier\n",
    "from sklearn.metrics import accuracy_score\n",
    "\n",
    "# load dataset\n",
    "numeric_df = pd.read_csv(\"numeric_dataset.csv\")\n",
    "np.random.seed(42)\n",
    "numeric_df[\"target\"] = np.random.choice([0, 1], size=len(numeric_df))\n",
    "X = numeric_df.drop(\"target\", axis=1)\n",
    "y = numeric_df[\"target\"]\n",
    "\n",
    "# split data\n",
    "X_train, X_test, y_train, y_test = train_test_split(X, y, test_size=0.2, random_state=42)\n",
    "\n",
    "# model\n",
    "dt = DecisionTreeClassifier(random_state=42)\n",
    "dt.fit(X_train, y_train)\n",
    "\n",
    "# predict\n",
    "y_pred = dt.predict(X_test)\n",
    "\n",
    "# accuracy\n",
    "print(\"Decision Tree Accuracy (Numeric):\", accuracy_score(y_test, y_pred))\n"
   ]
  },
  {
   "cell_type": "markdown",
   "id": "9bd1a817",
   "metadata": {},
   "source": [
    "The dataset is loaded from \"numeric_dataset.csv\" into a DataFrame called numeric_df. Since the dataset lacks a target variable, a synthetic binary target column \"target\" is generated using numpy.random.choice, with a fixed random seed (np.random.seed(42)) to ensure reproducibility.\n",
    "\n",
    "The features (X) and target (y) are separated, and the dataset is split into training and testing sets in an 80:20 ratio using train_test_split. A DecisionTreeClassifier is instantiated with a fixed random state to ensure consistent results. The model is trained on the training set using .fit() and then used to predict labels for the test set with .predict().\n",
    "\n",
    "The predictions are compared with actual test labels using accuracy_score, providing a measure of the model’s performance. Decision Trees work by recursively splitting the feature space based on conditions that maximize class separation, which can capture complex patterns but may overfit the training data. This code establishes a baseline for comparison with more advanced ensemble methods such as Bagging, Boosting, or Stacking, which typically improve stability and accuracy over a single Decision Tree"
   ]
  }
 ],
 "metadata": {
  "kernelspec": {
   "display_name": "Python 3",
   "language": "python",
   "name": "python3"
  },
  "language_info": {
   "codemirror_mode": {
    "name": "ipython",
    "version": 3
   },
   "file_extension": ".py",
   "mimetype": "text/x-python",
   "name": "python",
   "nbconvert_exporter": "python",
   "pygments_lexer": "ipython3",
   "version": "3.13.1"
  }
 },
 "nbformat": 4,
 "nbformat_minor": 5
}
