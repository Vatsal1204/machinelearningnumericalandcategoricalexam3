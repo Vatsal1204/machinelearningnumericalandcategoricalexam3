{
 "cells": [
  {
   "cell_type": "markdown",
   "id": "bf25ca56",
   "metadata": {},
   "source": [
    "random forest"
   ]
  },
  {
   "cell_type": "code",
   "execution_count": null,
   "id": "27ba3f19",
   "metadata": {},
   "outputs": [],
   "source": [
    "import pandas as pd\n",
    "import numpy as np\n",
    "from sklearn.model_selection import train_test_split\n",
    "from sklearn.ensemble import RandomForestClassifier\n",
    "from sklearn.preprocessing import OneHotEncoder\n",
    "from sklearn.compose import ColumnTransformer\n",
    "from sklearn.pipeline import Pipeline\n",
    "from sklearn.metrics import accuracy_score\n",
    "\n",
    "# load dataset\n",
    "categorical_df = pd.read_csv(\"categorical_dataset.csv\")\n",
    "np.random.seed(42)\n",
    "categorical_df[\"target\"] = np.random.choice([0, 1], size=len(categorical_df))\n",
    "X = categorical_df.drop(\"target\", axis=1)\n",
    "y = categorical_df[\"target\"]\n",
    "\n",
    "# preprocessing\n",
    "categorical_features = X.select_dtypes(include=[\"object\"]).columns.tolist()\n",
    "preprocessor = ColumnTransformer([(\"cat\", OneHotEncoder(handle_unknown=\"ignore\"), categorical_features)])\n",
    "\n",
    "# pipeline\n",
    "rf = Pipeline([(\"pre\", preprocessor), (\"clf\", RandomForestClassifier(n_estimators=100, random_state=42))])\n",
    "\n",
    "# split data\n",
    "X_train, X_test, y_train, y_test = train_test_split(X, y, test_size=0.2, random_state=42)\n",
    "\n",
    "# train\n",
    "rf.fit(X_train, y_train)\n",
    "\n",
    "# predict\n",
    "y_pred = rf.predict(X_test)\n",
    "\n",
    "# accuracy\n",
    "print(\"Random Forest Accuracy (Categorical):\", accuracy_score(y_test, y_pred))\n"
   ]
  },
  {
   "cell_type": "markdown",
   "id": "0f6540f0",
   "metadata": {},
   "source": [
    "This program uses a Random Forest Classifier to classify categorical data. The dataset is first loaded from categorical_dataset.csv. Since it lacks a target variable, a synthetic binary target (0 or 1) is generated randomly for demonstration purposes.\n",
    "\n",
    "The features (X) are separated from the target (y). As all features are categorical, preprocessing is necessary. A ColumnTransformer is applied with OneHotEncoder, which transforms categorical values into numerical form that machine learning models can handle.\n",
    "\n",
    "A Pipeline is then built, consisting of two steps:\n",
    "\n",
    "Preprocessing step – converts categorical data into one-hot encoded vectors.\n",
    "\n",
    "Random Forest Classifier – an ensemble method that builds multiple decision trees and aggregates their results, improving accuracy and reducing overfitting compared to a single decision tree.\n",
    "\n",
    "The dataset is divided into training and test sets using an 80/20 split. The Random Forest model is trained on the training data with fit(). Predictions are generated on the test set using predict().\n",
    "\n",
    "Finally, model performance is evaluated with accuracy_score. This score reflects how well the Random Forest classified the unseen test data. Typically, Random Forests outperform single decision trees because they combine multiple weak learners into a strong, more robust classifier."
   ]
  }
 ],
 "metadata": {
  "language_info": {
   "name": "python"
  }
 },
 "nbformat": 4,
 "nbformat_minor": 5
}
