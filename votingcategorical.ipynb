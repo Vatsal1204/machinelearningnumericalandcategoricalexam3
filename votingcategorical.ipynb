{
 "cells": [
  {
   "cell_type": "markdown",
   "id": "c58ab684",
   "metadata": {},
   "source": [
    "voting"
   ]
  },
  {
   "cell_type": "code",
   "execution_count": 2,
   "id": "98db2a88",
   "metadata": {},
   "outputs": [
    {
     "name": "stdout",
     "output_type": "stream",
     "text": [
      "Voting Classifier Accuracy (Categorical Dataset): 0.50875\n"
     ]
    }
   ],
   "source": [
    "# Voting Classifier on Categorical Dataset\n",
    "import pandas as pd\n",
    "from sklearn.model_selection import train_test_split\n",
    "from sklearn.tree import DecisionTreeClassifier\n",
    "from sklearn.ensemble import RandomForestClassifier, VotingClassifier\n",
    "from sklearn.preprocessing import OneHotEncoder\n",
    "from sklearn.compose import ColumnTransformer\n",
    "from sklearn.pipeline import Pipeline\n",
    "from sklearn.metrics import accuracy_score\n",
    "\n",
    "# 1. Load Categorical Dataset\n",
    "\n",
    "categorical_df = pd.read_csv(\"categorical_dataset.csv\")\n",
    "\n",
    "# Generate synthetic target variable (binary classification)\n",
    "import numpy as np\n",
    "np.random.seed(42)\n",
    "categorical_df[\"target\"] = np.random.choice([0, 1], size=len(categorical_df))\n",
    "\n",
    "X = categorical_df.drop(\"target\", axis=1)\n",
    "y = categorical_df[\"target\"]\n",
    "\n",
    "# ------------------------------\n",
    "# 2. Preprocessing for Categorical Data\n",
    "# ------------------------------\n",
    "categorical_features = X.columns.tolist()\n",
    "preprocessor = ColumnTransformer(\n",
    "    transformers=[(\"cat\", OneHotEncoder(handle_unknown=\"ignore\"), categorical_features)]\n",
    ")\n",
    "\n",
    "# 3. Define Models inside Pipeline\n",
    "\n",
    "dt_clf = Pipeline(steps=[(\"pre\", preprocessor),\n",
    "                         (\"clf\", DecisionTreeClassifier(random_state=42))])\n",
    "\n",
    "rf_clf = Pipeline(steps=[(\"pre\", preprocessor),\n",
    "                         (\"clf\", RandomForestClassifier(random_state=42))])\n",
    "\n",
    "voting_clf = VotingClassifier(\n",
    "    estimators=[(\"dt\", dt_clf), (\"rf\", rf_clf)],\n",
    "    voting=\"hard\"\n",
    ")\n",
    "\n",
    "\n",
    "# 4. Train-Test Split\n",
    "\n",
    "X_train, X_test, y_train, y_test = train_test_split(X, y, test_size=0.2, random_state=42)\n",
    "\n",
    "# 5. Train & Evaluate\n",
    "\n",
    "voting_clf.fit(X_train, y_train)\n",
    "y_pred = voting_clf.predict(X_test)\n",
    "\n",
    "print(\"Voting Classifier Accuracy (Categorical Dataset):\", accuracy_score(y_test, y_pred))\n"
   ]
  },
  {
   "cell_type": "markdown",
   "id": "c2db75c5",
   "metadata": {},
   "source": [
    "The code applies a Voting Classifier to a categorical dataset for binary classification. First, the dataset is read from categorical_dataset.csv. Since it has no target column, a synthetic binary target is created using NumPy’s random choice. The dataset is then divided into features (X) and target labels (y).\n",
    "\n",
    "Because all features are categorical, they must be converted into numerical form. This is handled by a ColumnTransformer with a OneHotEncoder, which encodes each category into binary columns. The preprocessing step ensures that classifiers can work with categorical variables.\n",
    "\n",
    "Two models are defined inside pipelines: a DecisionTreeClassifier and a RandomForestClassifier. Each pipeline includes the preprocessing and classification steps. A VotingClassifier is then created to combine these two models. With voting=\"hard\", the final class label is chosen by majority rule, meaning whichever class gets more votes from the two models becomes the output.\n",
    "\n",
    "The dataset is split into training and test sets, with 80% for training and 20% for evaluation. The voting classifier is trained and then used to predict test data. Finally, the accuracy is measured with accuracy_score, showing how well the ensemble performs on unseen data."
   ]
  }
 ],
 "metadata": {
  "kernelspec": {
   "display_name": "Python 3",
   "language": "python",
   "name": "python3"
  },
  "language_info": {
   "codemirror_mode": {
    "name": "ipython",
    "version": 3
   },
   "file_extension": ".py",
   "mimetype": "text/x-python",
   "name": "python",
   "nbconvert_exporter": "python",
   "pygments_lexer": "ipython3",
   "version": "3.13.1"
  }
 },
 "nbformat": 4,
 "nbformat_minor": 5
}
