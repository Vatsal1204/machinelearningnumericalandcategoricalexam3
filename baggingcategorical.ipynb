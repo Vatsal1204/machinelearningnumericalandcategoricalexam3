{
 "cells": [
  {
   "cell_type": "markdown",
   "id": "88cb3c63",
   "metadata": {},
   "source": [
    "bagging "
   ]
  },
  {
   "cell_type": "code",
   "execution_count": null,
   "id": "e1e2148b",
   "metadata": {},
   "outputs": [],
   "source": [
    "import pandas as pd\n",
    "import numpy as np\n",
    "\n",
    "import sklearn\n",
    "from sklearn.model_selection import train_test_split\n",
    "from sklearn.tree import DecisionTreeClassifier\n",
    "from sklearn.ensemble import BaggingClassifier\n",
    "from sklearn.preprocessing import OneHotEncoder\n",
    "from sklearn.compose import ColumnTransformer\n",
    "from sklearn.pipeline import Pipeline\n",
    "from sklearn.metrics import accuracy_score\n",
    "\n",
    "# --- load data (the file you uploaded) ---\n",
    "df = pd.read_csv(\"categorical_dataset.csv\")\n",
    "\n",
    "# --- create a target (you had added a random target in your snippet) ---\n",
    "np.random.seed(42)\n",
    "df[\"target\"] = np.random.choice([0, 1], size=len(df))\n",
    "\n",
    "X = df.drop(\"target\", axis=1)\n",
    "y = df[\"target\"]\n",
    "\n",
    "# --- OneHotEncoder compatibility (sparse_output vs sparse) ---\n",
    "try:\n",
    "    encoder = OneHotEncoder(handle_unknown=\"ignore\", sparse_output=False)\n",
    "except TypeError:\n",
    "    encoder = OneHotEncoder(handle_unknown=\"ignore\", sparse=False)\n",
    "\n",
    "# preprocessor using column NAMES (works because pipeline.fit receives a DataFrame)\n",
    "preprocessor = ColumnTransformer(\n",
    "    [(\"cat\", encoder, X.columns.tolist())],\n",
    "    remainder=\"passthrough\"\n",
    ")\n",
    "\n",
    "# --- sklearn version compatibility for BaggingClassifier param name ---\n",
    "ver = sklearn.__version__.split(\".\")\n",
    "major = int(ver[0])\n",
    "minor = int(ver[1]) if len(ver) > 1 else 0\n",
    "param_name = \"estimator\" if (major > 1 or (major == 1 and minor >= 2)) else \"base_estimator\"\n",
    "\n",
    "# Build the pipeline: PREPROCESSOR first, then BAGGING (with DecisionTree as the estimator)\n",
    "bagging_kwargs = {param_name: DecisionTreeClassifier(), \"n_estimators\": 50, \"random_state\": 42}\n",
    "pipeline = Pipeline([\n",
    "    (\"pre\", preprocessor),\n",
    "    (\"bag\", BaggingClassifier(**bagging_kwargs))\n",
    "])\n",
    "\n",
    "# train / test\n",
    "X_train, X_test, y_train, y_test = train_test_split(X, y, test_size=0.2, random_state=42)\n",
    "pipeline.fit(X_train, y_train)\n",
    "y_pred = pipeline.predict(X_test)\n",
    "\n",
    "print(\"sklearn version:\", sklearn.__version__)\n",
    "print(\"Using BaggingClassifier parameter:\", param_name)\n",
    "print(\"Bagging Accuracy (Categorical):\", accuracy_score(y_test, y_pred))\n"
   ]
  },
  {
   "cell_type": "markdown",
   "id": "1f1b142f",
   "metadata": {},
   "source": [
    "Because the dataset contains only categorical columns, the preprocessing step uses OneHotEncoder inside a ColumnTransformer. This encoder converts categorical values into binary indicators, allowing the classifier to interpret them numerically. Compatibility is ensured by checking the correct parameter (sparse_output or sparse) depending on the scikit-learn version.\n",
    "\n",
    "Next, a BaggingClassifier is set up with a DecisionTreeClassifier as its base learner. Bagging (Bootstrap Aggregating) trains multiple decision trees on random samples of the training data and then combines their predictions, which helps reduce variance and improve stability. The code also detects the correct parameter name (estimator vs. base_estimator) depending on the scikit-learn version, ensuring compatibility across versions.\n",
    "\n",
    "The model is wrapped in a Pipeline where preprocessing occurs first, followed by the bagging step. The dataset is split into training and test sets, the pipeline is fitted, and predictions are made. Finally, the model’s accuracy on unseen test data is printed, showing the performance of bagging on categorical features"
   ]
  }
 ],
 "metadata": {
  "language_info": {
   "name": "python"
  }
 },
 "nbformat": 4,
 "nbformat_minor": 5
}
